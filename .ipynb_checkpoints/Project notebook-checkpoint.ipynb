{
 "cells": [
  {
   "cell_type": "markdown",
   "id": "fb21a5ac",
   "metadata": {},
   "source": [
    "<div style=\"font-size: 35px\">\n",
    "    <font color='Blue'> <b>CO2 emmisions</b></font> "
   ]
  },
  {
   "attachments": {},
   "cell_type": "markdown",
   "id": "becc4983",
   "metadata": {},
   "source": [
    "Add co2 emission image"
   ]
  },
  {
   "cell_type": "markdown",
   "id": "cf3e0653",
   "metadata": {},
   "source": [
    "<a id=\"cont\"></a>\n",
    "\n",
    "## Table of Contents\n",
    "* <b>[1. Project Overview**](#chapter1)\n",
    "    * [1.1 Introduction**](#section_1_1)\n",
    "        * [1.1.1 Problem Statement**](#sub_section_1_1_1)\n",
    "    * [1.2 Objectives**](#section_1_2)\n",
    "* <b>[2. Importing Packages**](#chapter2)\n",
    "* <b>[3. Loading Data**](#chapter3)\n",
    "* <b>[4. Data Cleaning**](#chapter4)\n",
    "* <b>[5. Exploratory Data Analysis (EDA)**](#chapter5)\n",
    "* <b>[6. Feature Engineering**](#chapter6)</b>\n",
    "* [7. Modeling](#chapter7)\n",
    "* [8. Model Performance](#chapter8)\n",
    "* [9. You will learn more in Machine Learning Sprints](#chapter9)\n",
    "* <b>[10. Conclusion**](#chapter10)</b>\n",
    "* [11. References](#chapter11)"
   ]
  },
  {
   "cell_type": "markdown",
   "id": "1ede2e6b",
   "metadata": {},
   "source": [
    "## 1. Project Overview <a class=\"anchor\" id=\"chapter1\"></a>\n",
    "\n",
    "### 1.1 Introduction <a class=\"anchor\" id=\"section_1_1\"></a>\n",
    "\n",
    "\n"
   ]
  },
  {
   "cell_type": "markdown",
   "id": "fc833792",
   "metadata": {},
   "source": [
    "> <b> Objective of the Project:</b> Clearly state what the project aims to achieve or what problem it intends to solve. This helps to immediately orient readers to the purpose of your analysis.\n",
    "\n",
    "> <b> Data Source:</b> Mention where the data comes from, including specifics about the dataset such as the period it covers, who collected it, and any important features or variables it includes. This establishes the context and relevance of the data.\n",
    "\n",
    "> <b> Importance of the Study:</b> Explain why this project is important. Discuss its relevance or impact in its field, whether it’s improving a business process, advancing scientific understanding, or influencing policy decisions.\n",
    "\n",
    "> <b> Key Questions or Hypotheses:</b> Outline the main questions you aim to answer or hypotheses you plan to test. This sets clear goals for your analysis and what the audience can expect to learn.\n",
    "\n",
    "> <b> Methodology Overview:</b> Provide a brief overview of the methods and techniques you plan to use in your analysis. This doesn’t need to be detailed here but should give a taste of the analytical approach and tools.\n",
    "\n",
    "> <b> Structure of the Notebook:</b> Describe the layout of the notebook. Explain the sections or parts of the analysis to help readers navigate through the content.\n",
    "\n",
    "> <b> Expected Outcomes:</b> If applicable, mention what kind of results or findings you anticipate. This could be specific insights, predictive model performance, or impact assessment."
   ]
  },
  {
   "cell_type": "markdown",
   "id": "0ccf6d27",
   "metadata": {},
   "source": [
    "- #### 1.1.1 Problem Statement <a class=\"anchor\" id=\"sub_section_1_1_1\"></a>"
   ]
  },
  {
   "cell_type": "markdown",
   "id": "c4ecaf71",
   "metadata": {},
   "source": [
    "### 1.2 Objectives <a class=\"anchor\" id=\"section_1_2\"></a>"
   ]
  },
  {
   "cell_type": "markdown",
   "id": "b5267096",
   "metadata": {},
   "source": [
    "You can choose to include all of this information in the introduction or distribute it across various sections. Key points to remember:\n",
    "\n",
    "+ To apply exploratory data analysis.\n",
    "+ To implement feature engineering techniques to extract meaningful information.\n",
    "+ To model and assess various supervised machine learning algorithms for the prediction ...."
   ]
  },
  {
   "cell_type": "markdown",
   "id": "262a6063",
   "metadata": {},
   "source": [
    "## 2. Importing Packages <a class=\"anchor\" id=\"chapter2\"></a>\n",
    "\n",
    "This data set was created to list all shows available on Netflix streaming, and analyze the data to find interesting facts. This data was acquired in July 2022 containing data available in the United States.\n",
    "\n",
    "+ For data manipulation and analysis, `Pandas` and `Numpy`.\n",
    "+ For data visualization, `Matplotlib` and `Seaborn`.\n"
   ]
  },
  {
   "cell_type": "code",
   "execution_count": 1,
   "id": "a367283f",
   "metadata": {},
   "outputs": [],
   "source": [
    "# Libraries for data loading, manipulation and analysis\n",
    "\n",
    "import numpy as np\n",
    "import pandas as pd\n",
    "import csv\n",
    "import seaborn as sns\n",
    "import matplotlib.pyplot as plt\n",
    "\n",
    "# Displays output inline\n",
    "%matplotlib inline\n",
    "\n",
    "# Libraries for Handing Errors\n",
    "import warnings\n",
    "warnings.filterwarnings('ignore')"
   ]
  },
  {
   "cell_type": "markdown",
   "id": "76174680",
   "metadata": {},
   "source": [
    "## 3. Loading Data <a class=\"anchor\" id=\"chapter3\"></a>\n",
    "\n",
    "The data used for this project was located in the `titles.csv` file. To better manipulate and analyse the `titles.csv` file, it was loaded into a Pandas Data Frame using the Pandas function, `.read_csv()` and referred to as `titles_import`. For demonstrating the column index in the dataframe , `index_col=False` was implemented."
   ]
  },
  {
   "cell_type": "code",
   "execution_count": 4,
   "id": "ae65e498",
   "metadata": {},
   "outputs": [
    {
     "data": {
      "text/html": [
       "<div>\n",
       "<style scoped>\n",
       "    .dataframe tbody tr th:only-of-type {\n",
       "        vertical-align: middle;\n",
       "    }\n",
       "\n",
       "    .dataframe tbody tr th {\n",
       "        vertical-align: top;\n",
       "    }\n",
       "\n",
       "    .dataframe thead th {\n",
       "        text-align: right;\n",
       "    }\n",
       "</style>\n",
       "<table border=\"1\" class=\"dataframe\">\n",
       "  <thead>\n",
       "    <tr style=\"text-align: right;\">\n",
       "      <th></th>\n",
       "      <th>Area</th>\n",
       "      <th>Year</th>\n",
       "      <th>Savanna fires</th>\n",
       "      <th>Forest fires</th>\n",
       "      <th>Crop Residues</th>\n",
       "      <th>Rice Cultivation</th>\n",
       "      <th>Drained organic soils (CO2)</th>\n",
       "      <th>Pesticides Manufacturing</th>\n",
       "      <th>Food Transport</th>\n",
       "      <th>Forestland</th>\n",
       "      <th>...</th>\n",
       "      <th>Manure Management</th>\n",
       "      <th>Fires in organic soils</th>\n",
       "      <th>Fires in humid tropical forests</th>\n",
       "      <th>On-farm energy use</th>\n",
       "      <th>Rural population</th>\n",
       "      <th>Urban population</th>\n",
       "      <th>Total Population - Male</th>\n",
       "      <th>Total Population - Female</th>\n",
       "      <th>total_emission</th>\n",
       "      <th>Average Temperature °C</th>\n",
       "    </tr>\n",
       "  </thead>\n",
       "  <tbody>\n",
       "    <tr>\n",
       "      <th>0</th>\n",
       "      <td>Afghanistan</td>\n",
       "      <td>1990</td>\n",
       "      <td>14.7237</td>\n",
       "      <td>0.0557</td>\n",
       "      <td>205.6077</td>\n",
       "      <td>686.00</td>\n",
       "      <td>0.0</td>\n",
       "      <td>11.807483</td>\n",
       "      <td>63.1152</td>\n",
       "      <td>-2388.803</td>\n",
       "      <td>...</td>\n",
       "      <td>319.1763</td>\n",
       "      <td>0.0</td>\n",
       "      <td>0.0</td>\n",
       "      <td>NaN</td>\n",
       "      <td>9655167.0</td>\n",
       "      <td>2593947.0</td>\n",
       "      <td>5348387.0</td>\n",
       "      <td>5346409.0</td>\n",
       "      <td>2198.963539</td>\n",
       "      <td>0.536167</td>\n",
       "    </tr>\n",
       "    <tr>\n",
       "      <th>1</th>\n",
       "      <td>Afghanistan</td>\n",
       "      <td>1991</td>\n",
       "      <td>14.7237</td>\n",
       "      <td>0.0557</td>\n",
       "      <td>209.4971</td>\n",
       "      <td>678.16</td>\n",
       "      <td>0.0</td>\n",
       "      <td>11.712073</td>\n",
       "      <td>61.2125</td>\n",
       "      <td>-2388.803</td>\n",
       "      <td>...</td>\n",
       "      <td>342.3079</td>\n",
       "      <td>0.0</td>\n",
       "      <td>0.0</td>\n",
       "      <td>NaN</td>\n",
       "      <td>10230490.0</td>\n",
       "      <td>2763167.0</td>\n",
       "      <td>5372959.0</td>\n",
       "      <td>5372208.0</td>\n",
       "      <td>2323.876629</td>\n",
       "      <td>0.020667</td>\n",
       "    </tr>\n",
       "    <tr>\n",
       "      <th>2</th>\n",
       "      <td>Afghanistan</td>\n",
       "      <td>1992</td>\n",
       "      <td>14.7237</td>\n",
       "      <td>0.0557</td>\n",
       "      <td>196.5341</td>\n",
       "      <td>686.00</td>\n",
       "      <td>0.0</td>\n",
       "      <td>11.712073</td>\n",
       "      <td>53.3170</td>\n",
       "      <td>-2388.803</td>\n",
       "      <td>...</td>\n",
       "      <td>349.1224</td>\n",
       "      <td>0.0</td>\n",
       "      <td>0.0</td>\n",
       "      <td>NaN</td>\n",
       "      <td>10995568.0</td>\n",
       "      <td>2985663.0</td>\n",
       "      <td>6028494.0</td>\n",
       "      <td>6028939.0</td>\n",
       "      <td>2356.304229</td>\n",
       "      <td>-0.259583</td>\n",
       "    </tr>\n",
       "    <tr>\n",
       "      <th>3</th>\n",
       "      <td>Afghanistan</td>\n",
       "      <td>1993</td>\n",
       "      <td>14.7237</td>\n",
       "      <td>0.0557</td>\n",
       "      <td>230.8175</td>\n",
       "      <td>686.00</td>\n",
       "      <td>0.0</td>\n",
       "      <td>11.712073</td>\n",
       "      <td>54.3617</td>\n",
       "      <td>-2388.803</td>\n",
       "      <td>...</td>\n",
       "      <td>352.2947</td>\n",
       "      <td>0.0</td>\n",
       "      <td>0.0</td>\n",
       "      <td>NaN</td>\n",
       "      <td>11858090.0</td>\n",
       "      <td>3237009.0</td>\n",
       "      <td>7003641.0</td>\n",
       "      <td>7000119.0</td>\n",
       "      <td>2368.470529</td>\n",
       "      <td>0.101917</td>\n",
       "    </tr>\n",
       "    <tr>\n",
       "      <th>4</th>\n",
       "      <td>Afghanistan</td>\n",
       "      <td>1994</td>\n",
       "      <td>14.7237</td>\n",
       "      <td>0.0557</td>\n",
       "      <td>242.0494</td>\n",
       "      <td>705.60</td>\n",
       "      <td>0.0</td>\n",
       "      <td>11.712073</td>\n",
       "      <td>53.9874</td>\n",
       "      <td>-2388.803</td>\n",
       "      <td>...</td>\n",
       "      <td>367.6784</td>\n",
       "      <td>0.0</td>\n",
       "      <td>0.0</td>\n",
       "      <td>NaN</td>\n",
       "      <td>12690115.0</td>\n",
       "      <td>3482604.0</td>\n",
       "      <td>7733458.0</td>\n",
       "      <td>7722096.0</td>\n",
       "      <td>2500.768729</td>\n",
       "      <td>0.372250</td>\n",
       "    </tr>\n",
       "  </tbody>\n",
       "</table>\n",
       "<p>5 rows × 31 columns</p>\n",
       "</div>"
      ],
      "text/plain": [
       "          Area  Year  Savanna fires  Forest fires  Crop Residues  \\\n",
       "0  Afghanistan  1990        14.7237        0.0557       205.6077   \n",
       "1  Afghanistan  1991        14.7237        0.0557       209.4971   \n",
       "2  Afghanistan  1992        14.7237        0.0557       196.5341   \n",
       "3  Afghanistan  1993        14.7237        0.0557       230.8175   \n",
       "4  Afghanistan  1994        14.7237        0.0557       242.0494   \n",
       "\n",
       "   Rice Cultivation  Drained organic soils (CO2)  Pesticides Manufacturing  \\\n",
       "0            686.00                          0.0                 11.807483   \n",
       "1            678.16                          0.0                 11.712073   \n",
       "2            686.00                          0.0                 11.712073   \n",
       "3            686.00                          0.0                 11.712073   \n",
       "4            705.60                          0.0                 11.712073   \n",
       "\n",
       "   Food Transport  Forestland  ...  Manure Management  Fires in organic soils  \\\n",
       "0         63.1152   -2388.803  ...           319.1763                     0.0   \n",
       "1         61.2125   -2388.803  ...           342.3079                     0.0   \n",
       "2         53.3170   -2388.803  ...           349.1224                     0.0   \n",
       "3         54.3617   -2388.803  ...           352.2947                     0.0   \n",
       "4         53.9874   -2388.803  ...           367.6784                     0.0   \n",
       "\n",
       "   Fires in humid tropical forests  On-farm energy use  Rural population  \\\n",
       "0                              0.0                 NaN         9655167.0   \n",
       "1                              0.0                 NaN        10230490.0   \n",
       "2                              0.0                 NaN        10995568.0   \n",
       "3                              0.0                 NaN        11858090.0   \n",
       "4                              0.0                 NaN        12690115.0   \n",
       "\n",
       "   Urban population  Total Population - Male  Total Population - Female  \\\n",
       "0         2593947.0                5348387.0                  5346409.0   \n",
       "1         2763167.0                5372959.0                  5372208.0   \n",
       "2         2985663.0                6028494.0                  6028939.0   \n",
       "3         3237009.0                7003641.0                  7000119.0   \n",
       "4         3482604.0                7733458.0                  7722096.0   \n",
       "\n",
       "   total_emission  Average Temperature °C  \n",
       "0     2198.963539                0.536167  \n",
       "1     2323.876629                0.020667  \n",
       "2     2356.304229               -0.259583  \n",
       "3     2368.470529                0.101917  \n",
       "4     2500.768729                0.372250  \n",
       "\n",
       "[5 rows x 31 columns]"
      ]
     },
     "execution_count": 4,
     "metadata": {},
     "output_type": "execute_result"
    }
   ],
   "source": [
    "# loading dataset\n",
    "df = pd.read_csv(\"co2_emissions_from_agri.csv\", index_col=False)\n",
    "df.head() "
   ]
  },
  {
   "cell_type": "markdown",
   "id": "2faecc75",
   "metadata": {},
   "source": [
    "To set the maximum number of columns to be displayed, the `pd.set_option()` function was put in place."
   ]
  },
  {
   "cell_type": "code",
   "execution_count": 3,
   "id": "170cc99e",
   "metadata": {},
   "outputs": [],
   "source": [
    "# displays unlimited number of columns\n",
    "pd.set_option(\"display.max_columns\", None)"
   ]
  },
  {
   "cell_type": "markdown",
   "id": "748ab794",
   "metadata": {},
   "source": [
    "<div class=\"alert alert-block alert-danger\">\n",
    "<b>To prevent any major unnecessary changes occurring to the original data</b> , a copy of the dataframe was made using the df.copy() method and referred to as `df_copy`.\n",
    "</div>"
   ]
  },
  {
   "cell_type": "code",
   "execution_count": 4,
   "id": "bc0d70bb",
   "metadata": {},
   "outputs": [],
   "source": [
    "# The copy of the dataframe\n",
    "df_copy = df.copy()"
   ]
  },
  {
   "cell_type": "markdown",
   "id": "bd8da4e1",
   "metadata": {},
   "source": [
    "First look at the shape of the dataframe by using `.shape`."
   ]
  },
  {
   "cell_type": "code",
   "execution_count": 5,
   "id": "ac2b6ea0",
   "metadata": {},
   "outputs": [
    {
     "data": {
      "text/plain": [
       "(5850, 15)"
      ]
     },
     "execution_count": 5,
     "metadata": {},
     "output_type": "execute_result"
    }
   ],
   "source": [
    "# Displays the number of rows and columns\n",
    "df_copy.shape"
   ]
  },
  {
   "cell_type": "markdown",
   "id": "78d8f5ff",
   "metadata": {},
   "source": [
    "**Results** : The dataset consists of 5850 rows (observations) and 15 columns (features). "
   ]
  },
  {
   "cell_type": "markdown",
   "id": "43eb82f6",
   "metadata": {},
   "source": [
    "One of the univariate analysis (non-graphical), is the method `.info()`. This method outputs important details about the dataset which includes the columns: the data types **(Dtype)** of the columns and the count of non-null values."
   ]
  },
  {
   "cell_type": "code",
   "execution_count": 6,
   "id": "bcfca187",
   "metadata": {},
   "outputs": [
    {
     "name": "stdout",
     "output_type": "stream",
     "text": [
      "<class 'pandas.core.frame.DataFrame'>\n",
      "RangeIndex: 5850 entries, 0 to 5849\n",
      "Data columns (total 15 columns):\n",
      " #   Column                Non-Null Count  Dtype  \n",
      "---  ------                --------------  -----  \n",
      " 0   id                    5850 non-null   object \n",
      " 1   title                 5849 non-null   object \n",
      " 2   type                  5850 non-null   object \n",
      " 3   description           5832 non-null   object \n",
      " 4   release_year          5850 non-null   int64  \n",
      " 5   age_certification     3231 non-null   object \n",
      " 6   runtime               5850 non-null   int64  \n",
      " 7   genres                5850 non-null   object \n",
      " 8   production_countries  5850 non-null   object \n",
      " 9   seasons               2106 non-null   float64\n",
      " 10  imdb_id               5447 non-null   object \n",
      " 11  imdb_score            5368 non-null   float64\n",
      " 12  imdb_votes            5352 non-null   float64\n",
      " 13  tmdb_popularity       5759 non-null   float64\n",
      " 14  tmdb_score            5539 non-null   float64\n",
      "dtypes: float64(5), int64(2), object(8)\n",
      "memory usage: 685.7+ KB\n"
     ]
    }
   ],
   "source": [
    "## Display summary information about the DataFrame.\n",
    "df_copy.info()"
   ]
  },
  {
   "cell_type": "markdown",
   "id": "18c90f1c",
   "metadata": {},
   "source": [
    "**Results** : "
   ]
  },
  {
   "cell_type": "markdown",
   "id": "6dae0c06",
   "metadata": {},
   "source": [
    "<div class=\"alert alert-block alert-success\">\n",
    "<b>Things to consider:</b> \n",
    "Ensure that you describe the features of your dataset. You can include this information in the project overview or after presenting your features.\n",
    "</div>"
   ]
  },
  {
   "cell_type": "markdown",
   "id": "c76627dc",
   "metadata": {},
   "source": [
    "## 4. Data Cleaning <a class=\"anchor\" id=\"chapter4\"></a>"
   ]
  },
  {
   "cell_type": "markdown",
   "id": "c3fc8f4c",
   "metadata": {},
   "source": [
    "<div class=\"alert alert-block alert-info\">\n",
    "<b>Data cleaning</b> is a crucial step in the data analysis process, involving the correction or removal of incorrect, corrupted, duplicate, or incomplete data within a dataset. Through various techniques such as filling missing values, removing outliers, and standardizing data formats, it ensures the accuracy and reliability of subsequent analyses and decision-making.\n",
    "</div>\n"
   ]
  },
  {
   "cell_type": "markdown",
   "id": "a90f1d71",
   "metadata": {},
   "source": [
    "The `check_null_values` function iterates over each column in a DataFrame to identify and print the count of null values, providing column-specific null counts."
   ]
  },
  {
   "cell_type": "code",
   "execution_count": 7,
   "id": "5d540024",
   "metadata": {},
   "outputs": [],
   "source": [
    "def check_null_values(df_copy):\n",
    "    \"\"\"\n",
    "    Print the count of null values for each column in a DataFrame.\n",
    "\n",
    "    This function iterates through each column in the DataFrame to check for the presence of null values.\n",
    "    If a column contains null values, it prints the column name along with the number of null values.\n",
    "\n",
    "    Parameters:\n",
    "    df (DataFrame): The pandas DataFrame to check for null values.\n",
    "\n",
    "    Returns:\n",
    "    None: This function does not return a value; it only prints information.\n",
    "    \"\"\"\n",
    "    for column in df_copy:\n",
    "        if df_copy[column].isnull().any():\n",
    "            print('{0} has {1} null values'.format(column, df_copy[column].isnull().sum()))"
   ]
  },
  {
   "cell_type": "code",
   "execution_count": 8,
   "id": "bf5a38a8",
   "metadata": {
    "scrolled": true
   },
   "outputs": [
    {
     "name": "stdout",
     "output_type": "stream",
     "text": [
      "title has 1 null values\n",
      "description has 18 null values\n",
      "age_certification has 2619 null values\n",
      "seasons has 3744 null values\n",
      "imdb_id has 403 null values\n",
      "imdb_score has 482 null values\n",
      "imdb_votes has 498 null values\n",
      "tmdb_popularity has 91 null values\n",
      "tmdb_score has 311 null values\n"
     ]
    }
   ],
   "source": [
    "check_null_values(df_copy)"
   ]
  },
  {
   "cell_type": "markdown",
   "id": "0da81c4d",
   "metadata": {},
   "source": [
    "**Results** :"
   ]
  },
  {
   "cell_type": "markdown",
   "id": "8145f870",
   "metadata": {},
   "source": [
    "The `count_duplicate_rows` function checks a DataFrame for duplicate entries by utilizing the duplicated method, which identifies duplicates, and then summarizes the total number of duplicate rows. This function is useful for data cleaning processes, ensuring uniqueness in datasets by returning the count of duplicate rows."
   ]
  },
  {
   "cell_type": "code",
   "execution_count": 9,
   "id": "861da6b0",
   "metadata": {},
   "outputs": [],
   "source": [
    "def count_duplicate_rows(df_copy):\n",
    "    \"\"\"\n",
    "    Count the number of duplicate rows in a DataFrame.\n",
    "\n",
    "    This function calculates the total number of duplicate rows in the DataFrame by calling the `duplicated` method,\n",
    "    which marks duplicates as `True`, and then sums these cases.\n",
    "\n",
    "    Parameters:\n",
    "    df_copy (pandas.DataFrame): The DataFrame to check for duplicates.\n",
    "\n",
    "    Returns:\n",
    "    int: The count of duplicate rows.\n",
    "    \"\"\"\n",
    "    duplicate_count = df_copy.duplicated().sum()\n",
    "    return duplicate_count\n"
   ]
  },
  {
   "cell_type": "code",
   "execution_count": 10,
   "id": "fd1f7ab8",
   "metadata": {},
   "outputs": [
    {
     "data": {
      "text/plain": [
       "0"
      ]
     },
     "execution_count": 10,
     "metadata": {},
     "output_type": "execute_result"
    }
   ],
   "source": [
    "count_duplicate_rows(df_copy)"
   ]
  },
  {
   "cell_type": "markdown",
   "id": "5136b9e2",
   "metadata": {},
   "source": [
    "**Results** :"
   ]
  },
  {
   "cell_type": "markdown",
   "id": "830e744b",
   "metadata": {},
   "source": [
    "The `preprocess_data` function performs essential data cleaning operations on a DataFrame, setting missing values, filling in gaps with statistical measures (mean and median), and dropping non-essential columns. After processing, it prints the first two rows of the cleaned DataFrame for quick inspection and returns the entire modified DataFrame for further use.\n"
   ]
  },
  {
   "cell_type": "code",
   "execution_count": 11,
   "id": "9424690e",
   "metadata": {},
   "outputs": [],
   "source": [
    "def preprocess_data(df_copy):\n",
    "    \"\"\"\n",
    "    Perform basic data cleaning on the DataFrame.\n",
    "\n",
    "    This includes:\n",
    "    - Setting missing 'seasons' to 0.\n",
    "    - Filling missing IMDb scores and votes with the mean and median, respectively.\n",
    "    - Filling missing TMDB popularity and scores with the median and mean, respectively.\n",
    "    - Dropping columns with many null values or that are not required.\n",
    "\n",
    "\n",
    "    Returns:\n",
    "        DataFrame: The cleaned DataFrame.\n",
    "    \"\"\"\n",
    "    \n",
    "    # Assign zero seasons to movies where the number of seasons is missing\n",
    "    df_copy['seasons'] = df_copy['seasons'].fillna(0)\n",
    "    \n",
    "    # Fill missing IMDb scores with the mean score\n",
    "    df_copy['imdb_score'] = df_copy['imdb_score'].fillna(df_copy['imdb_score'].mean())\n",
    "    \n",
    "    # Fill missing IMDb votes with the median number of votes\n",
    "    df_copy['imdb_votes'] = df_copy['imdb_votes'].fillna(df_copy['imdb_votes'].median())\n",
    "    \n",
    "    # Fill missing TMDB popularity scores with the median popularity\n",
    "    df_copy['tmdb_popularity'] = df_copy['tmdb_popularity'].fillna(df_copy['tmdb_popularity'].median())\n",
    "    \n",
    "    # Fill missing TMDB scores with the mean score\n",
    "    df_copy['tmdb_score'] = df_copy['tmdb_score'].fillna(df_copy['tmdb_score'].mean())\n",
    "    \n",
    "    # Drop columns that are not required or have many null values\n",
    "    df_copy = df_copy.drop(['imdb_id', 'description', 'age_certification'], axis=1)\n",
    "    \n",
    "    return df_copy"
   ]
  },
  {
   "cell_type": "code",
   "execution_count": 12,
   "id": "587d256f",
   "metadata": {},
   "outputs": [
    {
     "data": {
      "text/html": [
       "<div>\n",
       "<style scoped>\n",
       "    .dataframe tbody tr th:only-of-type {\n",
       "        vertical-align: middle;\n",
       "    }\n",
       "\n",
       "    .dataframe tbody tr th {\n",
       "        vertical-align: top;\n",
       "    }\n",
       "\n",
       "    .dataframe thead th {\n",
       "        text-align: right;\n",
       "    }\n",
       "</style>\n",
       "<table border=\"1\" class=\"dataframe\">\n",
       "  <thead>\n",
       "    <tr style=\"text-align: right;\">\n",
       "      <th></th>\n",
       "      <th>id</th>\n",
       "      <th>title</th>\n",
       "      <th>type</th>\n",
       "      <th>release_year</th>\n",
       "      <th>runtime</th>\n",
       "      <th>genres</th>\n",
       "      <th>production_countries</th>\n",
       "      <th>seasons</th>\n",
       "      <th>imdb_score</th>\n",
       "      <th>imdb_votes</th>\n",
       "      <th>tmdb_popularity</th>\n",
       "      <th>tmdb_score</th>\n",
       "    </tr>\n",
       "  </thead>\n",
       "  <tbody>\n",
       "    <tr>\n",
       "      <th>0</th>\n",
       "      <td>ts300399</td>\n",
       "      <td>Five Came Back: The Reference Films</td>\n",
       "      <td>SHOW</td>\n",
       "      <td>1945</td>\n",
       "      <td>51</td>\n",
       "      <td>['documentation']</td>\n",
       "      <td>['US']</td>\n",
       "      <td>1.0</td>\n",
       "      <td>8.2</td>\n",
       "      <td>808582.0</td>\n",
       "      <td>0.600</td>\n",
       "      <td>8.179</td>\n",
       "    </tr>\n",
       "    <tr>\n",
       "      <th>1</th>\n",
       "      <td>tm84618</td>\n",
       "      <td>Taxi Driver</td>\n",
       "      <td>MOVIE</td>\n",
       "      <td>1976</td>\n",
       "      <td>114</td>\n",
       "      <td>['drama', 'crime']</td>\n",
       "      <td>['US']</td>\n",
       "      <td>0.0</td>\n",
       "      <td>8.2</td>\n",
       "      <td>808582.0</td>\n",
       "      <td>40.965</td>\n",
       "      <td>8.179</td>\n",
       "    </tr>\n",
       "  </tbody>\n",
       "</table>\n",
       "</div>"
      ],
      "text/plain": [
       "         id                                title   type  release_year  \\\n",
       "0  ts300399  Five Came Back: The Reference Films   SHOW          1945   \n",
       "1   tm84618                          Taxi Driver  MOVIE          1976   \n",
       "\n",
       "   runtime              genres production_countries  seasons  imdb_score  \\\n",
       "0       51   ['documentation']               ['US']      1.0         8.2   \n",
       "1      114  ['drama', 'crime']               ['US']      0.0         8.2   \n",
       "\n",
       "   imdb_votes  tmdb_popularity  tmdb_score  \n",
       "0    808582.0            0.600       8.179  \n",
       "1    808582.0           40.965       8.179  "
      ]
     },
     "execution_count": 12,
     "metadata": {},
     "output_type": "execute_result"
    }
   ],
   "source": [
    "# look at the top 2\n",
    "preprocess_data(df_copy.head(2))"
   ]
  },
  {
   "cell_type": "markdown",
   "id": "9ea45ce8",
   "metadata": {},
   "source": [
    "**Results** :"
   ]
  },
  {
   "cell_type": "markdown",
   "id": "0bc1b0c7",
   "metadata": {},
   "source": [
    "#### <a href=#cont>Back to Table of Contents</a>\n",
    "\n",
    "---"
   ]
  },
  {
   "cell_type": "markdown",
   "id": "3c36f830",
   "metadata": {},
   "source": [
    "## 5. Exploratory Data Analysis (EDA) <a class=\"anchor\" id=\"chapter5\"></a>\n",
    "\n",
    "\n",
    "To give a better understanding of the variables and the relationships between them, we set out to do an **Exploratory Data Analysis (EDA)** of our dataset. The main tasks includes investigating and summarizing the dataframe's main characteristics by data visualization methods and statistical analyses. Furthermore, investigating the dataset’s key features, summarizing its central characteristics, and employing both data visualisation techniques and statistical analyses to draw meaningful insights that can guide further research and data-driven decision making.\n",
    " "
   ]
  },
  {
   "cell_type": "markdown",
   "id": "aa12caa9",
   "metadata": {},
   "source": [
    "---"
   ]
  },
  {
   "cell_type": "markdown",
   "id": "eac40de8",
   "metadata": {},
   "source": [
    "Filter the DataFrame to examine the variety of media types available on Netflix within a specified runtime range (`filter_by_runtime`). This approach allows us to analyse how different content, such as movies or TV shows, is distributed based on their duration, providing insights into viewing options and trends"
   ]
  },
  {
   "cell_type": "code",
   "execution_count": 13,
   "id": "c8c75095",
   "metadata": {},
   "outputs": [],
   "source": [
    "def filter_by_runtime(df_copy, min_runtime, max_runtime):\n",
    "    \"\"\"\n",
    "    Filter a DataFrame based on a specified runtime range and return the first two entries.\n",
    "\n",
    "    Parameters:\n",
    "    dataframe (pandas.DataFrame): The DataFrame to sort and filter.\n",
    "    min_runtime (int): The minimum runtime threshold.\n",
    "    max_runtime (int): The maximum runtime threshold.\n",
    "\n",
    "    Returns:\n",
    "    pandas.DataFrame: The first five entries of the filtered DataFrame.\n",
    "    \"\"\"\n",
    "    # Sort the DataFrame by 'runtime'\n",
    "    sorted_df = df_copy.sort_values('runtime')\n",
    "\n",
    "    # Filter the DataFrame for entries with a runtime within the specified range\n",
    "    filtered_selection = sorted_df[\n",
    "        (sorted_df['runtime'] > min_runtime) & (sorted_df['runtime'] <= max_runtime)\n",
    "    ]\n",
    "\n",
    "    # Return the first five entries of the filtered selection\n",
    "    return filtered_selection.head(2)\n"
   ]
  },
  {
   "cell_type": "code",
   "execution_count": 14,
   "id": "469cc236",
   "metadata": {},
   "outputs": [
    {
     "data": {
      "text/html": [
       "<div>\n",
       "<style scoped>\n",
       "    .dataframe tbody tr th:only-of-type {\n",
       "        vertical-align: middle;\n",
       "    }\n",
       "\n",
       "    .dataframe tbody tr th {\n",
       "        vertical-align: top;\n",
       "    }\n",
       "\n",
       "    .dataframe thead th {\n",
       "        text-align: right;\n",
       "    }\n",
       "</style>\n",
       "<table border=\"1\" class=\"dataframe\">\n",
       "  <thead>\n",
       "    <tr style=\"text-align: right;\">\n",
       "      <th></th>\n",
       "      <th>id</th>\n",
       "      <th>title</th>\n",
       "      <th>type</th>\n",
       "      <th>description</th>\n",
       "      <th>release_year</th>\n",
       "      <th>age_certification</th>\n",
       "      <th>runtime</th>\n",
       "      <th>genres</th>\n",
       "      <th>production_countries</th>\n",
       "      <th>seasons</th>\n",
       "      <th>imdb_id</th>\n",
       "      <th>imdb_score</th>\n",
       "      <th>imdb_votes</th>\n",
       "      <th>tmdb_popularity</th>\n",
       "      <th>tmdb_score</th>\n",
       "    </tr>\n",
       "  </thead>\n",
       "  <tbody>\n",
       "    <tr>\n",
       "      <th>1978</th>\n",
       "      <td>ts83906</td>\n",
       "      <td>Car Masters: Rust to Riches</td>\n",
       "      <td>SHOW</td>\n",
       "      <td>The colorful crew at Gotham Garage overhauls a...</td>\n",
       "      <td>2018</td>\n",
       "      <td>TV-PG</td>\n",
       "      <td>37</td>\n",
       "      <td>['reality']</td>\n",
       "      <td>['US']</td>\n",
       "      <td>4.0</td>\n",
       "      <td>tt8893550</td>\n",
       "      <td>8.4</td>\n",
       "      <td>10058.0</td>\n",
       "      <td>18.216</td>\n",
       "      <td>7.7</td>\n",
       "    </tr>\n",
       "    <tr>\n",
       "      <th>5848</th>\n",
       "      <td>tm1035612</td>\n",
       "      <td>Dad Stop Embarrassing Me - The Afterparty</td>\n",
       "      <td>MOVIE</td>\n",
       "      <td>Jamie Foxx, David Alan Grier and more from the...</td>\n",
       "      <td>2021</td>\n",
       "      <td>PG-13</td>\n",
       "      <td>37</td>\n",
       "      <td>[]</td>\n",
       "      <td>['US']</td>\n",
       "      <td>NaN</td>\n",
       "      <td>NaN</td>\n",
       "      <td>NaN</td>\n",
       "      <td>NaN</td>\n",
       "      <td>1.296</td>\n",
       "      <td>10.0</td>\n",
       "    </tr>\n",
       "  </tbody>\n",
       "</table>\n",
       "</div>"
      ],
      "text/plain": [
       "             id                                      title   type  \\\n",
       "1978    ts83906                Car Masters: Rust to Riches   SHOW   \n",
       "5848  tm1035612  Dad Stop Embarrassing Me - The Afterparty  MOVIE   \n",
       "\n",
       "                                            description  release_year  \\\n",
       "1978  The colorful crew at Gotham Garage overhauls a...          2018   \n",
       "5848  Jamie Foxx, David Alan Grier and more from the...          2021   \n",
       "\n",
       "     age_certification  runtime       genres production_countries  seasons  \\\n",
       "1978             TV-PG       37  ['reality']               ['US']      4.0   \n",
       "5848             PG-13       37           []               ['US']      NaN   \n",
       "\n",
       "        imdb_id  imdb_score  imdb_votes  tmdb_popularity  tmdb_score  \n",
       "1978  tt8893550         8.4     10058.0           18.216         7.7  \n",
       "5848        NaN         NaN         NaN            1.296        10.0  "
      ]
     },
     "execution_count": 14,
     "metadata": {},
     "output_type": "execute_result"
    }
   ],
   "source": [
    "filter_by_runtime(df_copy, 36, 116)"
   ]
  },
  {
   "cell_type": "markdown",
   "id": "6dadd9eb",
   "metadata": {},
   "source": [
    "**Results** :"
   ]
  },
  {
   "cell_type": "markdown",
   "id": "dd2550bb",
   "metadata": {},
   "source": [
    "---"
   ]
  },
  {
   "cell_type": "markdown",
   "id": "941923ff",
   "metadata": {},
   "source": [
    "<div class=\"alert alert-block alert-success\">\n",
    "<b>Up to you:</b> The code below can be implemented in several ways; choose the approach that is easiest for the reader to understand. It's important to guide the reader through the analysis, ensuring that the representation chosen offers the best clarity and insight\n",
    "</div>"
   ]
  },
  {
   "cell_type": "markdown",
   "id": "1dbb273f",
   "metadata": {},
   "source": [
    "Calculate the number of each type of entry in the dataset, distinguishing between categories such as movies and TV shows to understand the overall composition and distribution."
   ]
  },
  {
   "cell_type": "code",
   "execution_count": 15,
   "id": "bac3b815",
   "metadata": {},
   "outputs": [
    {
     "data": {
      "text/plain": [
       "MOVIE    3744\n",
       "SHOW     2106\n",
       "Name: type, dtype: int64"
      ]
     },
     "execution_count": 15,
     "metadata": {},
     "output_type": "execute_result"
    }
   ],
   "source": [
    "# Get the count of each type in the dataset\n",
    "type_count = df_copy['type'].value_counts()\n",
    "\n",
    "# Display the top 5 most common types\n",
    "type_count.head()"
   ]
  },
  {
   "cell_type": "markdown",
   "id": "cc1457d9",
   "metadata": {},
   "source": [
    "**Results** :\n",
    "\n",
    "Based on the data provided, it's evident that there are significantly more movies than TV shows in the selection, with 3,744 movies compared to 2,106 TV shows. This indicates a stronger emphasis on movies within the catalog, suggesting that viewers have a more extensive range of film options available to them. The predominance of movies might reflect the platform's strategy to cater to movie enthusiasts or a broader audience preference for films over series. This discrepancy also suggests potential areas for expansion in the TV show category to balance the offerings and cater to a wider audience that may prefer episodic content."
   ]
  },
  {
   "cell_type": "markdown",
   "id": "a3671e3f",
   "metadata": {},
   "source": [
    "---"
   ]
  },
  {
   "cell_type": "markdown",
   "id": "3dbbe141",
   "metadata": {},
   "source": [
    "Generate a `countplot` to visually compare how different types of media, such as movies and TV shows, are distributed within a specified runtime range. This visualization helps to highlight the frequency and prevalence of each media type that falls between the minimum and maximum runtime limits, providing a clear comparison and deeper insight into content trends on the platform."
   ]
  },
  {
   "cell_type": "code",
   "execution_count": 16,
   "id": "9bbd7570",
   "metadata": {},
   "outputs": [
    {
     "data": {
      "image/png": "[encoded data removed]",
      "text/plain": [
       "<Figure size 432x288 with 1 Axes>"
      ]
     },
     "metadata": {
      "needs_background": "light"
     },
     "output_type": "display_data"
    }
   ],
   "source": [
    "# Setup countplot\n",
    "sns.countplot(\n",
    "    data=df_copy,\n",
    "    x='type',\n",
    "    order=df_copy['type'].value_counts().index\n",
    ")\n",
    "\n",
    "# Set the title of the plot with an adjusted position for better readability\n",
    "plt.title('Comparing Netflix Media Types', y=1.1)\n",
    "\n",
    "# Display the plot\n",
    "plt.show()"
   ]
  },
  {
   "cell_type": "markdown",
   "id": "fc4c86fd",
   "metadata": {},
   "source": [
    "**Results** :\n",
    "\n",
    "The graph provides a clear visual representation, showing that Netflix's catalog features significantly more movies than TV shows. This predominance of movies suggests that Netflix has historically prioritized expanding its movie selection over its TV show offerings. As a result of this extensive variety, viewers benefit from a wider array of genres and styles in films, increasing the likelihood of discovering high-quality movies that match their preferences. Moreover, the diversity in the movie selection caters to a broader audience, potentially enhancing user satisfaction and engagement with the platform."
   ]
  },
  {
   "cell_type": "markdown",
   "id": "4e45f1ce",
   "metadata": {},
   "source": [
    "---"
   ]
  },
  {
   "cell_type": "markdown",
   "id": "0b794898",
   "metadata": {},
   "source": [
    "This plot `plot_release_by_year` will categorize releases by type—movies or shows—and display the annual trends in production for each category. The visualization helps in quickly identifying which years saw the most activity and how the balance between movies and TV shows has evolved over time.\""
   ]
  },
  {
   "cell_type": "code",
   "execution_count": 17,
   "id": "1f93e62d",
   "metadata": {},
   "outputs": [],
   "source": [
    "def plot_release_by_year(df_copy):\n",
    "    \"\"\"\n",
    "    Generate a countplot displaying the number of movies and shows released each year.\n",
    "\n",
    "    Parameters:\n",
    "    df_copy (pandas.DataFrame): DataFrame containing the data with 'release_year' and 'type' columns.\n",
    "\n",
    "    The function creates a figure, sets up a countplot with 'release_year' on the y-axis and colors by 'type',\n",
    "    adjusts the y-axis limits, sets a title, and displays the plot.\n",
    "    \"\"\"\n",
    "    # Create a figure with specified size\n",
    "    plt.figure(figsize=(20, 10))\n",
    "\n",
    "    # Create a countplot for releases per year differentiated by type\n",
    "    sns.countplot(data=df_copy, y='release_year', hue='type')\n",
    "\n",
    "    # Set the limits for the y-axis\n",
    "    plt.ylim(20, 65)\n",
    "\n",
    "    # Set the title of the plot\n",
    "    plt.title('How many movies/shows are released each year?')\n",
    "\n",
    "    # Display the plot\n",
    "    plt.show()\n"
   ]
  },
  {
   "cell_type": "code",
   "execution_count": 18,
   "id": "5f28a701",
   "metadata": {},
   "outputs": [
    {
     "data": {
      "image/png": "[encoded data removed]",
      "text/plain": [
       "<Figure size 1440x720 with 1 Axes>"
      ]
     },
     "metadata": {
      "needs_background": "light"
     },
     "output_type": "display_data"
    }
   ],
   "source": [
    "plot_release_by_year(df_copy)"
   ]
  },
  {
   "cell_type": "markdown",
   "id": "132f3185",
   "metadata": {},
   "source": [
    "**Results** :\n",
    "\n",
    "Since the 1980s, there has been a consistent annual increase in movie production, with relatively few TV shows being produced. Starting from the year 2000, there has been an exponential increase in the production of both movies and TV shows. Over the last seven years, movie production has outnumbered TV show production; however, the production levels of both have drastically increased compared to the ten years prior."
   ]
  },
  {
   "cell_type": "markdown",
   "id": "5442a692",
   "metadata": {},
   "source": [
    "#### <a href=#cont>Back to Table of Contents</a>\n",
    "\n",
    "---"
   ]
  },
  {
   "cell_type": "markdown",
   "id": "567d3ac6",
   "metadata": {},
   "source": [
    "## 6. Feature Engineering (H2) <a class=\"anchor\" id=\"chapter6\"></a>"
   ]
  },
  {
   "cell_type": "markdown",
   "id": "68de8d8a",
   "metadata": {},
   "source": [
    "### 7. Modeling (H3)  <a class=\"anchor\" id=\"chapter7\"></a>"
   ]
  },
  {
   "cell_type": "markdown",
   "id": "7a6c2574",
   "metadata": {},
   "source": [
    "#### 8. Model Performance (H4)  <a class=\"anchor\" id=\"chapter8\"></a>"
   ]
  },
  {
   "cell_type": "markdown",
   "id": "51baba5e",
   "metadata": {},
   "source": [
    "#### 9. You will learn more in Machine Learning Sprints <a class=\"anchor\" id=\"chapter9\"></a>"
   ]
  },
  {
   "cell_type": "markdown",
   "id": "c412c3f5",
   "metadata": {},
   "source": [
    "## 10. Conclusion <a class=\"anchor\" id=\"chapter10\"></a>\n",
    "\n",
    "> <b> Summary of Key Findings:</b> Recap the main insights and results discovered through the analysis. Highlight how these findings answer the initial questions or hypotheses set out in the introduction.\n",
    "\n",
    "> <b> Evaluation of the Methodology:</b> Discuss the effectiveness of the methods and techniques used. Mention any limitations or challenges encountered during the analysis and how they were addressed or could be addressed in the future.\n",
    "\n",
    "> <b> Implications of the Findings:</b> Explain the practical or theoretical implications of the results.Discuss how these findings can impact decision-making processes, policy, business strategies, or scientific understanding.\n",
    "\n",
    "> <b> Suggestions for Future Work:</b> Propose areas for further research or additional questions that emerged from the project. Suggest improvements in data collection, analysis methods, or other aspects that could enhance future studies.\n",
    "\n",
    "> <b> Reflection on the Data Source and Quality:</b> Reflect on the quality and reliability of the data used. Consider how the data source influenced the outcomes and what could be improved in terms of data quality or variety.\n",
    "\n",
    "> <b>Concluding Thoughts:</b> Offer a final thought or summary statement that encapsulates the essence of the project and its impact. Encourage readers to consider broader applications or the next steps following from the project’s conclusions."
   ]
  },
  {
   "cell_type": "markdown",
   "id": "149fd516",
   "metadata": {},
   "source": [
    "#### <a href=#cont>Back to Table of Contents</a>\n",
    "\n",
    "---"
   ]
  },
  {
   "cell_type": "markdown",
   "id": "ceed546e",
   "metadata": {},
   "source": [
    "## 11. References <a class=\"anchor\" id=\"chapter11\"></a>"
   ]
  },
  {
   "cell_type": "markdown",
   "id": "bf606f82",
   "metadata": {},
   "source": [
    "Maintaining clear and organized documentation is crucial for reproducibility and credibility. Harvard referencing, a widely recognized citation style, can be effectively applied to data science notebooks to ensure proper acknowledgment of sources and facilitate the tracing of data and methodologies back to their origins."
   ]
  },
  {
   "cell_type": "markdown",
   "id": "2353332b",
   "metadata": {},
   "source": [
    "1. Citing Data Sources: When gathering datasets for analysis, it's essential to cite the origin of the data. This includes providing details such as the author, publication date, title, and source of the dataset. In your notebook, you can include inline citations for each dataset you use, following the Harvard referencing format. \n",
    "\n",
    "<div class=\"alert alert-block alert-warning\">\n",
    "<b>Example:</b> The World Bank. (2020). World Development Indicators. Retrieved from https://datacatalog.worldbank.org/dataset/world-development-indicators\n",
    "</div>\n",
    "\n",
    "2. Referencing Research Papers: Data science often involves building upon existing research. Whether you're utilizing algorithms, methodologies, or theories from academic papers, it's important to reference them properly. Include citations for relevant papers within your notebook, both in the narrative sections and within code comments where applicable.\n",
    "\n",
    "<div class=\"alert alert-block alert-warning\">\n",
    "<b>Example:</b> Smith, J., & Doe, A. (2018). Predictive Modeling Techniques for Financial Forecasting. Journal of Data Science, 10(2), 123-135.\n",
    "</div>\n",
    "\n",
    "3. Code Libraries and Packages: Data science projects heavily rely on various libraries and packages for analysis and visualization. When utilizing third-party code, make sure to acknowledge the creators by referencing the relevant documentation or papers associated with those tools.\n",
    "\n",
    "<div class=\"alert alert-block alert-warning\">\n",
    "<b>Example:</b> Matplotlib Development Team. (2020). Matplotlib: A 2D plotting library. Retrieved from https://matplotlib.org/\n",
    "</div>\n",
    "\n",
    "4. Acknowledging Scholarly Contributions: If you've consulted online forums, blogs, or other informal resources during your project, it's courteous to acknowledge these contributions. While Harvard referencing is traditionally used for academic sources, you can adapt it to reference online resources as well.\n",
    "\n",
    "<div class=\"alert alert-block alert-warning\">\n",
    "<b>Example:</b> Kaggle. (2021). Titanic: Machine Learning from Disaster. Retrieved from https://www.kaggle.com/c/titanic\n",
    "</div>\n"
   ]
  },
  {
   "cell_type": "markdown",
   "id": "cdd8fd84",
   "metadata": {},
   "source": [
    "#### <a href=#cont>Back to Table of Contents</a>\n",
    "\n",
    "---"
   ]
  },
  {
   "cell_type": "markdown",
   "id": "45431656",
   "metadata": {},
   "source": [
    "<div class=\"alert alert-block alert-success\">\n",
    "<b>Another thing to consider:</b> Take a look at the notebooks uploaded on Athena to explore different methods for incorporating specific elements into your own notebooks.\n",
    "</div>"
   ]
  }
 ],
 "metadata": {
  "kernelspec": {
   "display_name": "Python 3 (ipykernel)",
   "language": "python",
   "name": "python3"
  },
  "language_info": {
   "codemirror_mode": {
    "name": "ipython",
    "version": 3
   },
   "file_extension": ".py",
   "mimetype": "text/x-python",
   "name": "python",
   "nbconvert_exporter": "python",
   "pygments_lexer": "ipython3",
   "version": "3.9.7"
  }
 },
 "nbformat": 4,
 "nbformat_minor": 5
}
